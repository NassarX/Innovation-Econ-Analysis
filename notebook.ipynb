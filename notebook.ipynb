{
 "cells": [
  {
   "cell_type": "code",
   "execution_count": 486,
   "metadata": {
    "collapsed": true,
    "ExecuteTime": {
     "end_time": "2023-05-01T00:02:44.684303Z",
     "start_time": "2023-05-01T00:02:44.677332Z"
    }
   },
   "outputs": [],
   "source": [
    "import numpy as np\n",
    "import pandas as pd\n",
    "import matplotlib.pyplot as plt\n",
    "import seaborn as sns\n",
    "import os\n",
    "import sys\n",
    "import time\n",
    "import datetime\n",
    "from dateutil.parser import parse\n",
    "from datetime import datetime\n",
    "from tqdm import tqdm"
   ]
  },
  {
   "cell_type": "markdown",
   "source": [
    "# 1. Data Preparation"
   ],
   "metadata": {
    "collapsed": false
   }
  },
  {
   "cell_type": "markdown",
   "source": [
    "## 1.1 Global Innovation Index (GII)"
   ],
   "metadata": {
    "collapsed": false
   }
  },
  {
   "cell_type": "markdown",
   "source": [
    "### 1.1.1 Load GII data"
   ],
   "metadata": {
    "collapsed": false
   }
  },
  {
   "cell_type": "code",
   "execution_count": 487,
   "outputs": [],
   "source": [
    "# Load GII data\n",
    "GII_data = pd.read_csv('data/GII_dataset.csv')"
   ],
   "metadata": {
    "collapsed": false,
    "ExecuteTime": {
     "end_time": "2023-05-01T00:02:45.444114Z",
     "start_time": "2023-05-01T00:02:45.424323Z"
    }
   }
  },
  {
   "cell_type": "code",
   "execution_count": 488,
   "outputs": [
    {
     "data": {
      "text/plain": "     country                indicator measure  \\\n0  Argentina  Global Innovation Index   Score   \n1  Argentina  Global Innovation Index   Score   \n2  Argentina  Global Innovation Index   Score   \n3  Argentina  Global Innovation Index   Score   \n4  Argentina  Global Innovation Index   Score   \n\n                                Unit  Date  Value  \n0  Score, 100=Max strength 0=Weakest  2013  37.66  \n1  Score, 100=Max strength 0=Weakest  2014  35.13  \n2  Score, 100=Max strength 0=Weakest  2015  34.30  \n3  Score, 100=Max strength 0=Weakest  2016  30.24  \n4  Score, 100=Max strength 0=Weakest  2017  32.00  ",
      "text/html": "<div>\n<style scoped>\n    .dataframe tbody tr th:only-of-type {\n        vertical-align: middle;\n    }\n\n    .dataframe tbody tr th {\n        vertical-align: top;\n    }\n\n    .dataframe thead th {\n        text-align: right;\n    }\n</style>\n<table border=\"1\" class=\"dataframe\">\n  <thead>\n    <tr style=\"text-align: right;\">\n      <th></th>\n      <th>country</th>\n      <th>indicator</th>\n      <th>measure</th>\n      <th>Unit</th>\n      <th>Date</th>\n      <th>Value</th>\n    </tr>\n  </thead>\n  <tbody>\n    <tr>\n      <th>0</th>\n      <td>Argentina</td>\n      <td>Global Innovation Index</td>\n      <td>Score</td>\n      <td>Score, 100=Max strength 0=Weakest</td>\n      <td>2013</td>\n      <td>37.66</td>\n    </tr>\n    <tr>\n      <th>1</th>\n      <td>Argentina</td>\n      <td>Global Innovation Index</td>\n      <td>Score</td>\n      <td>Score, 100=Max strength 0=Weakest</td>\n      <td>2014</td>\n      <td>35.13</td>\n    </tr>\n    <tr>\n      <th>2</th>\n      <td>Argentina</td>\n      <td>Global Innovation Index</td>\n      <td>Score</td>\n      <td>Score, 100=Max strength 0=Weakest</td>\n      <td>2015</td>\n      <td>34.30</td>\n    </tr>\n    <tr>\n      <th>3</th>\n      <td>Argentina</td>\n      <td>Global Innovation Index</td>\n      <td>Score</td>\n      <td>Score, 100=Max strength 0=Weakest</td>\n      <td>2016</td>\n      <td>30.24</td>\n    </tr>\n    <tr>\n      <th>4</th>\n      <td>Argentina</td>\n      <td>Global Innovation Index</td>\n      <td>Score</td>\n      <td>Score, 100=Max strength 0=Weakest</td>\n      <td>2017</td>\n      <td>32.00</td>\n    </tr>\n  </tbody>\n</table>\n</div>"
     },
     "execution_count": 488,
     "metadata": {},
     "output_type": "execute_result"
    }
   ],
   "source": [
    "GII_data.head()"
   ],
   "metadata": {
    "collapsed": false,
    "ExecuteTime": {
     "end_time": "2023-05-01T00:02:45.628681Z",
     "start_time": "2023-05-01T00:02:45.623378Z"
    }
   }
  },
  {
   "cell_type": "markdown",
   "source": [
    "### 1.1.2 Data Cleaning"
   ],
   "metadata": {
    "collapsed": false
   }
  },
  {
   "cell_type": "code",
   "execution_count": 489,
   "outputs": [],
   "source": [
    "# Make a copy of the data\n",
    "GII_data_ = GII_data.copy()"
   ],
   "metadata": {
    "collapsed": false,
    "ExecuteTime": {
     "end_time": "2023-05-01T00:02:46.012262Z",
     "start_time": "2023-05-01T00:02:45.997670Z"
    }
   }
  },
  {
   "cell_type": "code",
   "execution_count": 490,
   "outputs": [],
   "source": [
    "# Drop columns that are not needed\n",
    "GII_data_.drop(['measure', 'Unit'], axis=1, inplace=True)\n",
    "\n",
    "# Change columns types\n",
    "GII_data_['Date'] = pd.to_datetime(GII_data_['Date'], format=\"%Y\")\n",
    "GII_data_['Value'] = pd.to_numeric(GII_data_['Value'])"
   ],
   "metadata": {
    "collapsed": false,
    "ExecuteTime": {
     "end_time": "2023-05-01T00:02:46.236582Z",
     "start_time": "2023-05-01T00:02:46.197252Z"
    }
   }
  },
  {
   "cell_type": "code",
   "execution_count": 491,
   "outputs": [
    {
     "data": {
      "text/plain": "      country       Date  Business sophistication  Creative outputs  \\\n0   Argentina 2013-01-01                    34.20             47.46   \n1   Argentina 2014-01-01                    32.88             36.92   \n2   Argentina 2015-01-01                    36.26             36.52   \n3   Argentina 2016-01-01                    30.84             25.27   \n4   Argentina 2017-01-01                    33.63             27.63   \n5   Argentina 2018-01-01                    31.38             23.63   \n6   Argentina 2019-01-01                    32.60             24.00   \n7   Argentina 2020-01-01                    26.90             19.60   \n8   Argentina 2021-01-01                    26.70             21.90   \n9   Argentina 2022-01-01                    31.20             24.20   \n10  Australia 2013-01-01                    48.25             53.08   \n11  Australia 2014-01-01                    43.91             52.46   \n12  Australia 2015-01-01                    47.45             56.46   \n13  Australia 2016-01-01                    45.02             48.24   \n14  Australia 2017-01-01                    45.37             46.05   \n15  Australia 2018-01-01                    44.50             44.75   \n16  Australia 2019-01-01                    46.10             41.10   \n17  Australia 2020-01-01                    43.60             37.30   \n18  Australia 2021-01-01                    43.00             39.60   \n19  Australia 2022-01-01                    48.60             37.80   \n\n    Global Innovation Index  Human capital and research  Infrastructure  \\\n0                     37.66                       36.66           35.02   \n1                     35.13                       38.25           37.98   \n2                     34.30                       37.67           38.20   \n3                     30.24                       37.29           43.29   \n4                     32.00                       42.58           46.60   \n5                     30.70                       35.53           43.37   \n6                     31.90                       38.70           45.80   \n7                     28.30                       35.90           39.50   \n8                     29.80                       37.00           42.50   \n9                     28.60                       30.50           44.00   \n10                    53.07                       57.80           52.66   \n11                    55.01                       61.85           60.07   \n12                    55.20                       57.00           63.71   \n13                    53.07                       59.67           65.07   \n14                    51.83                       60.22           64.77   \n15                    52.00                       65.16           62.24   \n16                    50.30                       57.70           60.90   \n17                    48.40                       59.00           55.80   \n18                    48.30                       57.40           55.70   \n19                    47.10                       61.70           58.80   \n\n    Institutions  Knowledge and technology outputs  Market sophistication  \n0          50.68                             25.65                  37.32  \n1          49.06                             25.22                  37.73  \n2          48.03                             22.24                  35.94  \n3          47.21                             17.97                  35.68  \n4          46.37                             17.61                  37.74  \n5          54.70                             17.88                  37.79  \n6          56.70                             19.20                  37.90  \n7          54.30                             17.20                  34.60  \n8          52.80                             18.70                  37.50  \n9          47.60                             19.00                  24.90  \n10         89.37                             30.91                  72.67  \n11         88.95                             38.46                  68.06  \n12         89.32                             34.76                  66.72  \n13         88.76                             34.33                  65.75  \n14         87.37                             32.06                  65.33  \n15         88.70                             31.86                  67.70  \n16         88.80                             31.60                  68.30  \n17         88.70                             30.40                  67.10  \n18         88.30                             29.10                  66.40  \n19         77.20                             32.20                  50.20  ",
      "text/html": "<div>\n<style scoped>\n    .dataframe tbody tr th:only-of-type {\n        vertical-align: middle;\n    }\n\n    .dataframe tbody tr th {\n        vertical-align: top;\n    }\n\n    .dataframe thead th {\n        text-align: right;\n    }\n</style>\n<table border=\"1\" class=\"dataframe\">\n  <thead>\n    <tr style=\"text-align: right;\">\n      <th></th>\n      <th>country</th>\n      <th>Date</th>\n      <th>Business sophistication</th>\n      <th>Creative outputs</th>\n      <th>Global Innovation Index</th>\n      <th>Human capital and research</th>\n      <th>Infrastructure</th>\n      <th>Institutions</th>\n      <th>Knowledge and technology outputs</th>\n      <th>Market sophistication</th>\n    </tr>\n  </thead>\n  <tbody>\n    <tr>\n      <th>0</th>\n      <td>Argentina</td>\n      <td>2013-01-01</td>\n      <td>34.20</td>\n      <td>47.46</td>\n      <td>37.66</td>\n      <td>36.66</td>\n      <td>35.02</td>\n      <td>50.68</td>\n      <td>25.65</td>\n      <td>37.32</td>\n    </tr>\n    <tr>\n      <th>1</th>\n      <td>Argentina</td>\n      <td>2014-01-01</td>\n      <td>32.88</td>\n      <td>36.92</td>\n      <td>35.13</td>\n      <td>38.25</td>\n      <td>37.98</td>\n      <td>49.06</td>\n      <td>25.22</td>\n      <td>37.73</td>\n    </tr>\n    <tr>\n      <th>2</th>\n      <td>Argentina</td>\n      <td>2015-01-01</td>\n      <td>36.26</td>\n      <td>36.52</td>\n      <td>34.30</td>\n      <td>37.67</td>\n      <td>38.20</td>\n      <td>48.03</td>\n      <td>22.24</td>\n      <td>35.94</td>\n    </tr>\n    <tr>\n      <th>3</th>\n      <td>Argentina</td>\n      <td>2016-01-01</td>\n      <td>30.84</td>\n      <td>25.27</td>\n      <td>30.24</td>\n      <td>37.29</td>\n      <td>43.29</td>\n      <td>47.21</td>\n      <td>17.97</td>\n      <td>35.68</td>\n    </tr>\n    <tr>\n      <th>4</th>\n      <td>Argentina</td>\n      <td>2017-01-01</td>\n      <td>33.63</td>\n      <td>27.63</td>\n      <td>32.00</td>\n      <td>42.58</td>\n      <td>46.60</td>\n      <td>46.37</td>\n      <td>17.61</td>\n      <td>37.74</td>\n    </tr>\n    <tr>\n      <th>5</th>\n      <td>Argentina</td>\n      <td>2018-01-01</td>\n      <td>31.38</td>\n      <td>23.63</td>\n      <td>30.70</td>\n      <td>35.53</td>\n      <td>43.37</td>\n      <td>54.70</td>\n      <td>17.88</td>\n      <td>37.79</td>\n    </tr>\n    <tr>\n      <th>6</th>\n      <td>Argentina</td>\n      <td>2019-01-01</td>\n      <td>32.60</td>\n      <td>24.00</td>\n      <td>31.90</td>\n      <td>38.70</td>\n      <td>45.80</td>\n      <td>56.70</td>\n      <td>19.20</td>\n      <td>37.90</td>\n    </tr>\n    <tr>\n      <th>7</th>\n      <td>Argentina</td>\n      <td>2020-01-01</td>\n      <td>26.90</td>\n      <td>19.60</td>\n      <td>28.30</td>\n      <td>35.90</td>\n      <td>39.50</td>\n      <td>54.30</td>\n      <td>17.20</td>\n      <td>34.60</td>\n    </tr>\n    <tr>\n      <th>8</th>\n      <td>Argentina</td>\n      <td>2021-01-01</td>\n      <td>26.70</td>\n      <td>21.90</td>\n      <td>29.80</td>\n      <td>37.00</td>\n      <td>42.50</td>\n      <td>52.80</td>\n      <td>18.70</td>\n      <td>37.50</td>\n    </tr>\n    <tr>\n      <th>9</th>\n      <td>Argentina</td>\n      <td>2022-01-01</td>\n      <td>31.20</td>\n      <td>24.20</td>\n      <td>28.60</td>\n      <td>30.50</td>\n      <td>44.00</td>\n      <td>47.60</td>\n      <td>19.00</td>\n      <td>24.90</td>\n    </tr>\n    <tr>\n      <th>10</th>\n      <td>Australia</td>\n      <td>2013-01-01</td>\n      <td>48.25</td>\n      <td>53.08</td>\n      <td>53.07</td>\n      <td>57.80</td>\n      <td>52.66</td>\n      <td>89.37</td>\n      <td>30.91</td>\n      <td>72.67</td>\n    </tr>\n    <tr>\n      <th>11</th>\n      <td>Australia</td>\n      <td>2014-01-01</td>\n      <td>43.91</td>\n      <td>52.46</td>\n      <td>55.01</td>\n      <td>61.85</td>\n      <td>60.07</td>\n      <td>88.95</td>\n      <td>38.46</td>\n      <td>68.06</td>\n    </tr>\n    <tr>\n      <th>12</th>\n      <td>Australia</td>\n      <td>2015-01-01</td>\n      <td>47.45</td>\n      <td>56.46</td>\n      <td>55.20</td>\n      <td>57.00</td>\n      <td>63.71</td>\n      <td>89.32</td>\n      <td>34.76</td>\n      <td>66.72</td>\n    </tr>\n    <tr>\n      <th>13</th>\n      <td>Australia</td>\n      <td>2016-01-01</td>\n      <td>45.02</td>\n      <td>48.24</td>\n      <td>53.07</td>\n      <td>59.67</td>\n      <td>65.07</td>\n      <td>88.76</td>\n      <td>34.33</td>\n      <td>65.75</td>\n    </tr>\n    <tr>\n      <th>14</th>\n      <td>Australia</td>\n      <td>2017-01-01</td>\n      <td>45.37</td>\n      <td>46.05</td>\n      <td>51.83</td>\n      <td>60.22</td>\n      <td>64.77</td>\n      <td>87.37</td>\n      <td>32.06</td>\n      <td>65.33</td>\n    </tr>\n    <tr>\n      <th>15</th>\n      <td>Australia</td>\n      <td>2018-01-01</td>\n      <td>44.50</td>\n      <td>44.75</td>\n      <td>52.00</td>\n      <td>65.16</td>\n      <td>62.24</td>\n      <td>88.70</td>\n      <td>31.86</td>\n      <td>67.70</td>\n    </tr>\n    <tr>\n      <th>16</th>\n      <td>Australia</td>\n      <td>2019-01-01</td>\n      <td>46.10</td>\n      <td>41.10</td>\n      <td>50.30</td>\n      <td>57.70</td>\n      <td>60.90</td>\n      <td>88.80</td>\n      <td>31.60</td>\n      <td>68.30</td>\n    </tr>\n    <tr>\n      <th>17</th>\n      <td>Australia</td>\n      <td>2020-01-01</td>\n      <td>43.60</td>\n      <td>37.30</td>\n      <td>48.40</td>\n      <td>59.00</td>\n      <td>55.80</td>\n      <td>88.70</td>\n      <td>30.40</td>\n      <td>67.10</td>\n    </tr>\n    <tr>\n      <th>18</th>\n      <td>Australia</td>\n      <td>2021-01-01</td>\n      <td>43.00</td>\n      <td>39.60</td>\n      <td>48.30</td>\n      <td>57.40</td>\n      <td>55.70</td>\n      <td>88.30</td>\n      <td>29.10</td>\n      <td>66.40</td>\n    </tr>\n    <tr>\n      <th>19</th>\n      <td>Australia</td>\n      <td>2022-01-01</td>\n      <td>48.60</td>\n      <td>37.80</td>\n      <td>47.10</td>\n      <td>61.70</td>\n      <td>58.80</td>\n      <td>77.20</td>\n      <td>32.20</td>\n      <td>50.20</td>\n    </tr>\n  </tbody>\n</table>\n</div>"
     },
     "execution_count": 491,
     "metadata": {},
     "output_type": "execute_result"
    }
   ],
   "source": [
    "# pivot the table to reshape it\n",
    "GII_df_pivot = GII_data_.pivot_table(index=['country', 'Date'], columns='indicator', values='Value')\n",
    "GII_df_pivot.reset_index(inplace=True)\n",
    "GII_df_pivot.columns.name = None\n",
    "GII_df_pivot.head(20)"
   ],
   "metadata": {
    "collapsed": false,
    "ExecuteTime": {
     "end_time": "2023-05-01T00:02:46.471288Z",
     "start_time": "2023-05-01T00:02:46.395141Z"
    }
   }
  },
  {
   "cell_type": "code",
   "execution_count": 492,
   "outputs": [
    {
     "name": "stderr",
     "output_type": "stream",
     "text": [
      "100%|██████████| 190/190 [00:00<00:00, 37555.03it/s]\n"
     ]
    }
   ],
   "source": [
    "# Rename columns to be more descriptive and easier to work with.\n",
    "rows = []\n",
    "for _, row in tqdm(GII_df_pivot.iterrows(), total=GII_df_pivot.shape[0]):\n",
    "    row_data = dict(\n",
    "        country=row['country'],\n",
    "        year=row['Date'],\n",
    "        gii_index=row['Global Innovation Index'],\n",
    "        gii_institutions=row['Institutions'],\n",
    "        gii_human_capital_research=row['Human capital and research'],\n",
    "        gii_infrastructure=row['Infrastructure'],\n",
    "        gii_market_sophistication=row['Market sophistication'],\n",
    "        gii_business_sophistication=row['Business sophistication'],\n",
    "        gii_knowledge_technology_outputs=row['Knowledge and technology outputs'],\n",
    "        gii_creative_outputs=row['Creative outputs'],\n",
    "    )\n",
    "    rows.append(row_data)\n",
    "\n",
    "# Create a new dataframe with the new columns\n",
    "GII_copy_df = pd.DataFrame(rows)"
   ],
   "metadata": {
    "collapsed": false,
    "ExecuteTime": {
     "end_time": "2023-05-01T00:02:46.620840Z",
     "start_time": "2023-05-01T00:02:46.564445Z"
    }
   }
  },
  {
   "cell_type": "code",
   "execution_count": 493,
   "outputs": [],
   "source": [
    "GII_copy_df.set_index(['country', 'year'], inplace=True)"
   ],
   "metadata": {
    "collapsed": false,
    "ExecuteTime": {
     "end_time": "2023-05-01T00:02:46.812077Z",
     "start_time": "2023-05-01T00:02:46.788449Z"
    }
   }
  },
  {
   "cell_type": "code",
   "execution_count": 494,
   "outputs": [
    {
     "data": {
      "text/plain": "                      gii_index  gii_institutions  gii_human_capital_research  \\\ncountry   year                                                                  \nArgentina 2013-01-01      37.66             50.68                       36.66   \n          2014-01-01      35.13             49.06                       38.25   \n          2015-01-01      34.30             48.03                       37.67   \n          2016-01-01      30.24             47.21                       37.29   \n          2017-01-01      32.00             46.37                       42.58   \n\n                      gii_infrastructure  gii_market_sophistication  \\\ncountry   year                                                        \nArgentina 2013-01-01               35.02                      37.32   \n          2014-01-01               37.98                      37.73   \n          2015-01-01               38.20                      35.94   \n          2016-01-01               43.29                      35.68   \n          2017-01-01               46.60                      37.74   \n\n                      gii_business_sophistication  \\\ncountry   year                                      \nArgentina 2013-01-01                        34.20   \n          2014-01-01                        32.88   \n          2015-01-01                        36.26   \n          2016-01-01                        30.84   \n          2017-01-01                        33.63   \n\n                      gii_knowledge_technology_outputs  gii_creative_outputs  \ncountry   year                                                                \nArgentina 2013-01-01                             25.65                 47.46  \n          2014-01-01                             25.22                 36.92  \n          2015-01-01                             22.24                 36.52  \n          2016-01-01                             17.97                 25.27  \n          2017-01-01                             17.61                 27.63  ",
      "text/html": "<div>\n<style scoped>\n    .dataframe tbody tr th:only-of-type {\n        vertical-align: middle;\n    }\n\n    .dataframe tbody tr th {\n        vertical-align: top;\n    }\n\n    .dataframe thead th {\n        text-align: right;\n    }\n</style>\n<table border=\"1\" class=\"dataframe\">\n  <thead>\n    <tr style=\"text-align: right;\">\n      <th></th>\n      <th></th>\n      <th>gii_index</th>\n      <th>gii_institutions</th>\n      <th>gii_human_capital_research</th>\n      <th>gii_infrastructure</th>\n      <th>gii_market_sophistication</th>\n      <th>gii_business_sophistication</th>\n      <th>gii_knowledge_technology_outputs</th>\n      <th>gii_creative_outputs</th>\n    </tr>\n    <tr>\n      <th>country</th>\n      <th>year</th>\n      <th></th>\n      <th></th>\n      <th></th>\n      <th></th>\n      <th></th>\n      <th></th>\n      <th></th>\n      <th></th>\n    </tr>\n  </thead>\n  <tbody>\n    <tr>\n      <th rowspan=\"5\" valign=\"top\">Argentina</th>\n      <th>2013-01-01</th>\n      <td>37.66</td>\n      <td>50.68</td>\n      <td>36.66</td>\n      <td>35.02</td>\n      <td>37.32</td>\n      <td>34.20</td>\n      <td>25.65</td>\n      <td>47.46</td>\n    </tr>\n    <tr>\n      <th>2014-01-01</th>\n      <td>35.13</td>\n      <td>49.06</td>\n      <td>38.25</td>\n      <td>37.98</td>\n      <td>37.73</td>\n      <td>32.88</td>\n      <td>25.22</td>\n      <td>36.92</td>\n    </tr>\n    <tr>\n      <th>2015-01-01</th>\n      <td>34.30</td>\n      <td>48.03</td>\n      <td>37.67</td>\n      <td>38.20</td>\n      <td>35.94</td>\n      <td>36.26</td>\n      <td>22.24</td>\n      <td>36.52</td>\n    </tr>\n    <tr>\n      <th>2016-01-01</th>\n      <td>30.24</td>\n      <td>47.21</td>\n      <td>37.29</td>\n      <td>43.29</td>\n      <td>35.68</td>\n      <td>30.84</td>\n      <td>17.97</td>\n      <td>25.27</td>\n    </tr>\n    <tr>\n      <th>2017-01-01</th>\n      <td>32.00</td>\n      <td>46.37</td>\n      <td>42.58</td>\n      <td>46.60</td>\n      <td>37.74</td>\n      <td>33.63</td>\n      <td>17.61</td>\n      <td>27.63</td>\n    </tr>\n  </tbody>\n</table>\n</div>"
     },
     "execution_count": 494,
     "metadata": {},
     "output_type": "execute_result"
    }
   ],
   "source": [
    "GII_copy_df.head()"
   ],
   "metadata": {
    "collapsed": false,
    "ExecuteTime": {
     "end_time": "2023-05-01T00:02:46.953713Z",
     "start_time": "2023-05-01T00:02:46.934271Z"
    }
   }
  },
  {
   "cell_type": "code",
   "execution_count": 495,
   "outputs": [],
   "source": [
    "# Add missing rows for Turkey for 2022 (GII data is not available for 2022)\n",
    "GII_copy_df.loc[('Turkey', pd.to_datetime('2022-01-01'))] = [38.1, 46.1, 38.9, 49.2, 41.6, 32.5, 27.4, 41.5]"
   ],
   "metadata": {
    "collapsed": false,
    "ExecuteTime": {
     "end_time": "2023-05-01T00:02:47.236808Z",
     "start_time": "2023-05-01T00:02:47.159671Z"
    }
   }
  },
  {
   "cell_type": "code",
   "execution_count": 496,
   "outputs": [
    {
     "data": {
      "text/plain": "gii_index                           0\ngii_institutions                    0\ngii_human_capital_research          0\ngii_infrastructure                  0\ngii_market_sophistication           0\ngii_business_sophistication         0\ngii_knowledge_technology_outputs    0\ngii_creative_outputs                0\ndtype: int64"
     },
     "execution_count": 496,
     "metadata": {},
     "output_type": "execute_result"
    }
   ],
   "source": [
    "GII_copy_df.isnull().sum()"
   ],
   "metadata": {
    "collapsed": false,
    "ExecuteTime": {
     "end_time": "2023-05-01T00:02:47.417884Z",
     "start_time": "2023-05-01T00:02:47.354383Z"
    }
   }
  },
  {
   "cell_type": "code",
   "execution_count": 497,
   "outputs": [],
   "source": [
    "# Save the data to a csv file for later use\n",
    "GII_copy_df.to_csv('data/GII_dataset_v2.csv', index=True)"
   ],
   "metadata": {
    "collapsed": false,
    "ExecuteTime": {
     "end_time": "2023-05-01T00:02:47.563265Z",
     "start_time": "2023-05-01T00:02:47.521944Z"
    }
   }
  },
  {
   "cell_type": "markdown",
   "source": [],
   "metadata": {
    "collapsed": false
   }
  },
  {
   "cell_type": "markdown",
   "source": [],
   "metadata": {
    "collapsed": false
   }
  },
  {
   "cell_type": "code",
   "execution_count": 498,
   "outputs": [],
   "source": [
    "GII_df = pd.read_csv('data/GII_dataset_v2.csv', index_col=['country', 'year'], parse_dates=['year'])"
   ],
   "metadata": {
    "collapsed": false,
    "ExecuteTime": {
     "end_time": "2023-05-01T00:02:48.139720Z",
     "start_time": "2023-05-01T00:02:48.135518Z"
    }
   }
  },
  {
   "cell_type": "code",
   "execution_count": 499,
   "outputs": [
    {
     "data": {
      "text/plain": "FrozenList(['country', 'year'])"
     },
     "execution_count": 499,
     "metadata": {},
     "output_type": "execute_result"
    }
   ],
   "source": [
    "GII_df.index.names"
   ],
   "metadata": {
    "collapsed": false,
    "ExecuteTime": {
     "end_time": "2023-05-01T00:02:48.437260Z",
     "start_time": "2023-05-01T00:02:48.416776Z"
    }
   }
  },
  {
   "cell_type": "code",
   "execution_count": 500,
   "outputs": [
    {
     "name": "stdout",
     "output_type": "stream",
     "text": [
      "<class 'pandas.core.frame.DataFrame'>\n",
      "MultiIndex: 190 entries, ('Argentina', Timestamp('2013-01-01 00:00:00')) to ('United States of America', Timestamp('2022-01-01 00:00:00'))\n",
      "Data columns (total 8 columns):\n",
      " #   Column                            Non-Null Count  Dtype  \n",
      "---  ------                            --------------  -----  \n",
      " 0   gii_index                         190 non-null    float64\n",
      " 1   gii_institutions                  190 non-null    float64\n",
      " 2   gii_human_capital_research        190 non-null    float64\n",
      " 3   gii_infrastructure                190 non-null    float64\n",
      " 4   gii_market_sophistication         190 non-null    float64\n",
      " 5   gii_business_sophistication       190 non-null    float64\n",
      " 6   gii_knowledge_technology_outputs  190 non-null    float64\n",
      " 7   gii_creative_outputs              190 non-null    float64\n",
      "dtypes: float64(8)\n",
      "memory usage: 13.4+ KB\n"
     ]
    }
   ],
   "source": [
    "GII_df.info()"
   ],
   "metadata": {
    "collapsed": false,
    "ExecuteTime": {
     "end_time": "2023-05-01T00:02:48.579190Z",
     "start_time": "2023-05-01T00:02:48.539069Z"
    }
   }
  },
  {
   "cell_type": "code",
   "execution_count": 501,
   "outputs": [
    {
     "data": {
      "text/plain": "        gii_index  gii_institutions  gii_human_capital_research  \\\ncount  190.000000        190.000000                  190.000000   \nmean    45.166895         68.912684                   45.837263   \nstd     10.823114         15.306705                   12.599887   \nmin     26.500000         37.240000                   19.980000   \n25%     35.342500         55.347500                   35.550000   \n50%     46.200000         66.240000                   47.150000   \n75%     54.950000         84.132500                   56.960000   \nmax     62.400000         93.260000                   67.400000   \n\n       gii_infrastructure  gii_market_sophistication  \\\ncount          190.000000                 190.000000   \nmean            50.754579                  56.867263   \nstd              9.887084                  12.663938   \nmin             27.490000                  24.900000   \n25%             42.500000                  48.000000   \n50%             52.150000                  55.100000   \n75%             59.637500                  64.847500   \nmax             67.140000                  87.090000   \n\n       gii_business_sophistication  gii_knowledge_technology_outputs  \\\ncount                   190.000000                        190.000000   \nmean                     41.269000                         36.916842   \nstd                      10.970911                         13.253066   \nmin                      17.500000                         14.600000   \n25%                      31.400000                         24.875000   \n50%                      40.170000                         34.600000   \n75%                      50.475000                         49.060000   \nmax                      64.500000                         60.800000   \n\n       gii_creative_outputs  \ncount            190.000000  \nmean              38.289684  \nstd               11.257063  \nmin               17.500000  \n25%               28.005000  \n50%               39.055000  \n75%               47.640000  \nmax               62.530000  ",
      "text/html": "<div>\n<style scoped>\n    .dataframe tbody tr th:only-of-type {\n        vertical-align: middle;\n    }\n\n    .dataframe tbody tr th {\n        vertical-align: top;\n    }\n\n    .dataframe thead th {\n        text-align: right;\n    }\n</style>\n<table border=\"1\" class=\"dataframe\">\n  <thead>\n    <tr style=\"text-align: right;\">\n      <th></th>\n      <th>gii_index</th>\n      <th>gii_institutions</th>\n      <th>gii_human_capital_research</th>\n      <th>gii_infrastructure</th>\n      <th>gii_market_sophistication</th>\n      <th>gii_business_sophistication</th>\n      <th>gii_knowledge_technology_outputs</th>\n      <th>gii_creative_outputs</th>\n    </tr>\n  </thead>\n  <tbody>\n    <tr>\n      <th>count</th>\n      <td>190.000000</td>\n      <td>190.000000</td>\n      <td>190.000000</td>\n      <td>190.000000</td>\n      <td>190.000000</td>\n      <td>190.000000</td>\n      <td>190.000000</td>\n      <td>190.000000</td>\n    </tr>\n    <tr>\n      <th>mean</th>\n      <td>45.166895</td>\n      <td>68.912684</td>\n      <td>45.837263</td>\n      <td>50.754579</td>\n      <td>56.867263</td>\n      <td>41.269000</td>\n      <td>36.916842</td>\n      <td>38.289684</td>\n    </tr>\n    <tr>\n      <th>std</th>\n      <td>10.823114</td>\n      <td>15.306705</td>\n      <td>12.599887</td>\n      <td>9.887084</td>\n      <td>12.663938</td>\n      <td>10.970911</td>\n      <td>13.253066</td>\n      <td>11.257063</td>\n    </tr>\n    <tr>\n      <th>min</th>\n      <td>26.500000</td>\n      <td>37.240000</td>\n      <td>19.980000</td>\n      <td>27.490000</td>\n      <td>24.900000</td>\n      <td>17.500000</td>\n      <td>14.600000</td>\n      <td>17.500000</td>\n    </tr>\n    <tr>\n      <th>25%</th>\n      <td>35.342500</td>\n      <td>55.347500</td>\n      <td>35.550000</td>\n      <td>42.500000</td>\n      <td>48.000000</td>\n      <td>31.400000</td>\n      <td>24.875000</td>\n      <td>28.005000</td>\n    </tr>\n    <tr>\n      <th>50%</th>\n      <td>46.200000</td>\n      <td>66.240000</td>\n      <td>47.150000</td>\n      <td>52.150000</td>\n      <td>55.100000</td>\n      <td>40.170000</td>\n      <td>34.600000</td>\n      <td>39.055000</td>\n    </tr>\n    <tr>\n      <th>75%</th>\n      <td>54.950000</td>\n      <td>84.132500</td>\n      <td>56.960000</td>\n      <td>59.637500</td>\n      <td>64.847500</td>\n      <td>50.475000</td>\n      <td>49.060000</td>\n      <td>47.640000</td>\n    </tr>\n    <tr>\n      <th>max</th>\n      <td>62.400000</td>\n      <td>93.260000</td>\n      <td>67.400000</td>\n      <td>67.140000</td>\n      <td>87.090000</td>\n      <td>64.500000</td>\n      <td>60.800000</td>\n      <td>62.530000</td>\n    </tr>\n  </tbody>\n</table>\n</div>"
     },
     "execution_count": 501,
     "metadata": {},
     "output_type": "execute_result"
    }
   ],
   "source": [
    "GII_df.describe()"
   ],
   "metadata": {
    "collapsed": false,
    "ExecuteTime": {
     "end_time": "2023-05-01T00:02:48.766214Z",
     "start_time": "2023-05-01T00:02:48.739325Z"
    }
   }
  },
  {
   "cell_type": "code",
   "execution_count": 502,
   "outputs": [
    {
     "data": {
      "text/plain": "                          PanelOLS Estimation Summary                           \n================================================================================\nDep. Variable:              gii_index   R-squared:                        0.9999\nEstimator:                   PanelOLS   R-squared (Between):              1.0000\nNo. Observations:                 190   R-squared (Within):               0.9999\nDate:                Mon, May 01 2023   R-squared (Overall):              1.0000\nTime:                        01:02:49   Log-likelihood                    438.71\nCov. Estimator:             Clustered                                           \n                                        F-statistic:                   1.583e+05\nEntities:                          19   P-value                           0.0000\nAvg Obs:                      10.0000   Distribution:                   F(7,164)\nMin Obs:                      10.0000                                           \nMax Obs:                      10.0000   F-statistic (robust):          2.208e+05\n                                        P-value                           0.0000\nTime periods:                      10   Distribution:                   F(7,164)\nAvg Obs:                       19.000                                           \nMin Obs:                       19.000                                           \nMax Obs:                       19.000                                           \n                                                                                \n                                        Parameter Estimates                                         \n====================================================================================================\n                                  Parameter  Std. Err.     T-stat    P-value    Lower CI    Upper CI\n----------------------------------------------------------------------------------------------------\nIntercept                           -0.0073     0.0689    -0.1058     0.9158     -0.1434      0.1288\ngii_business_sophistication          0.0998     0.0006     173.52     0.0000      0.0987      0.1010\ngii_creative_outputs                 0.2502     0.0004     704.70     0.0000      0.2495      0.2509\ngii_human_capital_research           0.1007     0.0008     121.57     0.0000      0.0991      0.1024\ngii_infrastructure                   0.0996     0.0005     190.72     0.0000      0.0986      0.1007\ngii_institutions                     0.1004     0.0006     169.56     0.0000      0.0993      0.1016\ngii_knowledge_technology_outputs     0.2501     0.0007     334.42     0.0000      0.2487      0.2516\ngii_market_sophistication            0.0992     0.0006     171.87     0.0000      0.0981      0.1004\n====================================================================================================\n\nF-test for Poolability: 1.0001\nP-value: 0.4623\nDistribution: F(18,164)\n\nIncluded effects: Entity\nPanelEffectsResults, id: 0x282768700",
      "text/html": "<table class=\"simpletable\">\n<caption>PanelOLS Estimation Summary</caption>\n<tr>\n  <th>Dep. Variable:</th>        <td>gii_index</td>    <th>  R-squared:         </th>    <td>0.9999</td>  \n</tr>\n<tr>\n  <th>Estimator:</th>            <td>PanelOLS</td>     <th>  R-squared (Between):</th>   <td>1.0000</td>  \n</tr>\n<tr>\n  <th>No. Observations:</th>        <td>190</td>       <th>  R-squared (Within):</th>    <td>0.9999</td>  \n</tr>\n<tr>\n  <th>Date:</th>             <td>Mon, May 01 2023</td> <th>  R-squared (Overall):</th>   <td>1.0000</td>  \n</tr>\n<tr>\n  <th>Time:</th>                 <td>01:02:49</td>     <th>  Log-likelihood     </th>    <td>438.71</td>  \n</tr>\n<tr>\n  <th>Cov. Estimator:</th>       <td>Clustered</td>    <th>                     </th>       <td></td>     \n</tr>\n<tr>\n  <th></th>                          <td></td>         <th>  F-statistic:       </th>   <td>1.583e+05</td>\n</tr>\n<tr>\n  <th>Entities:</th>                <td>19</td>        <th>  P-value            </th>    <td>0.0000</td>  \n</tr>\n<tr>\n  <th>Avg Obs:</th>               <td>10.0000</td>     <th>  Distribution:      </th>   <td>F(7,164)</td> \n</tr>\n<tr>\n  <th>Min Obs:</th>               <td>10.0000</td>     <th>                     </th>       <td></td>     \n</tr>\n<tr>\n  <th>Max Obs:</th>               <td>10.0000</td>     <th>  F-statistic (robust):</th> <td>2.208e+05</td>\n</tr>\n<tr>\n  <th></th>                          <td></td>         <th>  P-value            </th>    <td>0.0000</td>  \n</tr>\n<tr>\n  <th>Time periods:</th>            <td>10</td>        <th>  Distribution:      </th>   <td>F(7,164)</td> \n</tr>\n<tr>\n  <th>Avg Obs:</th>               <td>19.000</td>      <th>                     </th>       <td></td>     \n</tr>\n<tr>\n  <th>Min Obs:</th>               <td>19.000</td>      <th>                     </th>       <td></td>     \n</tr>\n<tr>\n  <th>Max Obs:</th>               <td>19.000</td>      <th>                     </th>       <td></td>     \n</tr>\n<tr>\n  <th></th>                          <td></td>         <th>                     </th>       <td></td>     \n</tr>\n</table>\n<table class=\"simpletable\">\n<caption>Parameter Estimates</caption>\n<tr>\n                  <td></td>                 <th>Parameter</th> <th>Std. Err.</th> <th>T-stat</th>  <th>P-value</th> <th>Lower CI</th> <th>Upper CI</th>\n</tr>\n<tr>\n  <th>Intercept</th>                         <td>-0.0073</td>   <td>0.0689</td>   <td>-0.1058</td> <td>0.9158</td>   <td>-0.1434</td>  <td>0.1288</td> \n</tr>\n<tr>\n  <th>gii_business_sophistication</th>       <td>0.0998</td>    <td>0.0006</td>   <td>173.52</td>  <td>0.0000</td>   <td>0.0987</td>   <td>0.1010</td> \n</tr>\n<tr>\n  <th>gii_creative_outputs</th>              <td>0.2502</td>    <td>0.0004</td>   <td>704.70</td>  <td>0.0000</td>   <td>0.2495</td>   <td>0.2509</td> \n</tr>\n<tr>\n  <th>gii_human_capital_research</th>        <td>0.1007</td>    <td>0.0008</td>   <td>121.57</td>  <td>0.0000</td>   <td>0.0991</td>   <td>0.1024</td> \n</tr>\n<tr>\n  <th>gii_infrastructure</th>                <td>0.0996</td>    <td>0.0005</td>   <td>190.72</td>  <td>0.0000</td>   <td>0.0986</td>   <td>0.1007</td> \n</tr>\n<tr>\n  <th>gii_institutions</th>                  <td>0.1004</td>    <td>0.0006</td>   <td>169.56</td>  <td>0.0000</td>   <td>0.0993</td>   <td>0.1016</td> \n</tr>\n<tr>\n  <th>gii_knowledge_technology_outputs</th>  <td>0.2501</td>    <td>0.0007</td>   <td>334.42</td>  <td>0.0000</td>   <td>0.2487</td>   <td>0.2516</td> \n</tr>\n<tr>\n  <th>gii_market_sophistication</th>         <td>0.0992</td>    <td>0.0006</td>   <td>171.87</td>  <td>0.0000</td>   <td>0.0981</td>   <td>0.1004</td> \n</tr>\n</table><br/><br/>F-test for Poolability: 1.0001<br/>P-value: 0.4623<br/>Distribution: F(18,164)<br/><br/>Included effects: Entity<br/>id: 0x282768700"
     },
     "execution_count": 502,
     "metadata": {},
     "output_type": "execute_result"
    }
   ],
   "source": [
    "from linearmodels.panel import PanelOLS\n",
    "\n",
    "# Set the model formula\n",
    "formula = 'gii_index ~ 1 + gii_institutions + gii_human_capital_research + gii_infrastructure + gii_market_sophistication + gii_business_sophistication + gii_knowledge_technology_outputs + gii_creative_outputs + EntityEffects'\n",
    "\n",
    "# Create the model\n",
    "model = PanelOLS.from_formula(formula=formula, data=GII_df)\n",
    "\n",
    "# Fit the model\n",
    "results = model.fit(cov_type='clustered', cluster_entity=True)\n",
    "\n",
    "results"
   ],
   "metadata": {
    "collapsed": false,
    "ExecuteTime": {
     "end_time": "2023-05-01T00:02:49.453354Z",
     "start_time": "2023-05-01T00:02:49.230807Z"
    }
   }
  }
 ],
 "metadata": {
  "kernelspec": {
   "display_name": "Python 3",
   "language": "python",
   "name": "python3"
  },
  "language_info": {
   "codemirror_mode": {
    "name": "ipython",
    "version": 2
   },
   "file_extension": ".py",
   "mimetype": "text/x-python",
   "name": "python",
   "nbconvert_exporter": "python",
   "pygments_lexer": "ipython2",
   "version": "2.7.6"
  }
 },
 "nbformat": 4,
 "nbformat_minor": 0
}
